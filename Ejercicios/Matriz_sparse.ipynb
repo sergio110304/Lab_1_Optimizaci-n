{
 "cells": [
  {
   "cell_type": "code",
   "execution_count": 1,
   "metadata": {},
   "outputs": [],
   "source": [
    "import numpy as np\n",
    "\n",
    "# Ejemplo de uso\n",
    "data = [13, 32, 33]\n",
    "row = [0, 1, 2]\n",
    "col = [0, 1, 2]\n",
    "shape = (3, 3)"
   ]
  },
  {
   "cell_type": "code",
   "execution_count": 2,
   "metadata": {},
   "outputs": [
    {
     "name": "stdout",
     "output_type": "stream",
     "text": [
      "Matriz dispersa en formato COO:\n",
      "  (0, 0)\t13\n",
      "  (1, 1)\t32\n",
      "  (2, 2)\t33\n",
      "Matriz densa convertida desde COO:\n",
      "[[13.  0.  0.]\n",
      " [ 0. 32.  0.]\n",
      " [ 0.  0. 33.]]\n"
     ]
    }
   ],
   "source": [
    "class COO:\n",
    "    def __init__(self, data, row, col, shape):\n",
    "        self.data = np.array(data)\n",
    "        self.row = np.array(row)\n",
    "        self.col = np.array(col)\n",
    "        self.shape = shape\n",
    "\n",
    "    def to_dense(self):\n",
    "        dense_matrix = np.zeros(self.shape)\n",
    "        for d, r, c in zip(self.data, self.row, self.col):\n",
    "            dense_matrix[r, c] = d\n",
    "        return dense_matrix\n",
    "\n",
    "    def __repr__(self):\n",
    "        result = []\n",
    "        for r, c, d in zip(self.row, self.col, self.data):\n",
    "            result.append(f\"  ({r}, {c})\\t{d}\")\n",
    "        return \"\\n\".join(result)\n",
    "\n",
    "coo_matrix = COO(data, row, col, shape)\n",
    "print(\"Matriz dispersa en formato COO:\")\n",
    "print(coo_matrix)\n",
    "print(\"Matriz densa convertida desde COO:\")\n",
    "print(coo_matrix.to_dense())"
   ]
  },
  {
   "cell_type": "code",
   "execution_count": 4,
   "metadata": {},
   "outputs": [
    {
     "name": "stdout",
     "output_type": "stream",
     "text": [
      "Matriz dispersa en formato COO usando scipy:\n",
      "<COOrdinate sparse matrix of dtype 'int64'\n",
      "\twith 3 stored elements and shape (3, 3)>\n",
      "  Coords\tValues\n",
      "  (0, 0)\t13\n",
      "  (1, 1)\t32\n",
      "  (2, 2)\t33\n",
      "Matriz densa convertida desde scipy COO:\n",
      "[[13  0  0]\n",
      " [ 0 32  0]\n",
      " [ 0  0 33]]\n"
     ]
    }
   ],
   "source": [
    "from scipy.sparse import coo_matrix\n",
    "\n",
    "# Crear la matriz dispersa usando scipy\n",
    "scipy_coo = coo_matrix((data, (row, col)), shape=shape)\n",
    "\n",
    "print(\"Matriz dispersa en formato COO usando scipy:\")\n",
    "print(scipy_coo)\n",
    "print(\"Matriz densa convertida desde scipy COO:\")\n",
    "print(scipy_coo.toarray())"
   ]
  },
  {
   "cell_type": "code",
   "execution_count": 5,
   "metadata": {},
   "outputs": [
    {
     "name": "stdout",
     "output_type": "stream",
     "text": [
      "Matriz densa desde COO:\n",
      "[[13.  0.  0.]\n",
      " [ 0. 32.  0.]\n",
      " [ 0.  0. 33.]]\n",
      "Matriz densa desde scipy COO:\n",
      "[[13  0  0]\n",
      " [ 0 32  0]\n",
      " [ 0  0 33]]\n",
      "¿Son iguales las matrices densas?\n",
      "True\n"
     ]
    }
   ],
   "source": [
    "# Comparación\n",
    "coo_matrix = COO(data, row, col, shape)\n",
    "dense_from_custom = coo_matrix.to_dense()\n",
    "dense_from_scipy = scipy_coo.toarray()\n",
    "\n",
    "print(\"Matriz densa desde COO:\")\n",
    "print(dense_from_custom)\n",
    "print(\"Matriz densa desde scipy COO:\")\n",
    "print(dense_from_scipy)\n",
    "\n",
    "print(\"¿Son iguales las matrices densas?\")\n",
    "print(np.array_equal(dense_from_custom, dense_from_scipy))"
   ]
  }
 ],
 "metadata": {
  "kernelspec": {
   "display_name": "venvLab1",
   "language": "python",
   "name": "python3"
  },
  "language_info": {
   "codemirror_mode": {
    "name": "ipython",
    "version": 3
   },
   "file_extension": ".py",
   "mimetype": "text/x-python",
   "name": "python",
   "nbconvert_exporter": "python",
   "pygments_lexer": "ipython3",
   "version": "3.11.9"
  }
 },
 "nbformat": 4,
 "nbformat_minor": 2
}
